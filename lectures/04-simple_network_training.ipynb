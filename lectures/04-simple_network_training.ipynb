{
 "cells": [
  {
   "cell_type": "code",
   "execution_count": 1,
   "id": "c25633f5-51b1-481f-b6f2-3b575535b0eb",
   "metadata": {},
   "outputs": [],
   "source": [
    "import numpy as np\n",
    "import pandas as pd\n",
    "import torch\n",
    "from torch import nn\n",
    "from torch.utils.data import Dataset\n",
    "from torch.utils.data import DataLoader\n",
    "from datasets import load_dataset\n",
    "from sklearn import metrics\n",
    "from sklearn.model_selection import train_test_split\n",
    "from tqdm import tqdm"
   ]
  },
  {
   "cell_type": "markdown",
   "id": "5c86251c-52da-455f-90f4-85b62c32af3a",
   "metadata": {},
   "source": [
    "## Build very simple NN"
   ]
  },
  {
   "cell_type": "code",
   "execution_count": 2,
   "id": "dbaac731-3ea3-4f94-9968-d851f7513831",
   "metadata": {},
   "outputs": [],
   "source": [
    "class Network(nn.Module):\n",
    "    def __init__(self):\n",
    "        super(Network,self).__init__()\n",
    "        \n",
    "        self.model = nn.Sequential(nn.Linear(6, 3),\n",
    "                      nn.Linear(3, 2))\n",
    "        \n",
    "        self.loss = nn.MSELoss()\n",
    " \n",
    "        \n",
    "    def forward(self,x):\n",
    "        x=self.model(x)\n",
    "        return x\n",
    "    \n",
    "    def train_model(self, dataset, epochs): \n",
    "        self.train()\n",
    "        optimizer = torch.optim.SGD(self.parameters(), lr=0.1) # TODO tune\n",
    "\n",
    "        for epoch in range(epochs):\n",
    "            with tqdm(dataset, unit=\"batch\") as tepoch:\n",
    "                for inputs, targets in tepoch:\n",
    "\n",
    "                    tepoch.set_description(f\"Epoch {epoch + 1}\")\n",
    "\n",
    "                    # clear the gradients\n",
    "                    optimizer.zero_grad()\n",
    "                    # compute the model output\n",
    "                    yhat = self(inputs)\n",
    "                    # calculate accuracy\n",
    "                    correct = (yhat.argmax(1) == targets).type(torch.float).sum().item()\n",
    "                    accuracy = correct / len(inputs)\n",
    "                    # calculate loss\n",
    "                    loss = self.loss(yhat, targets)\n",
    "                    print(\"Loss: \", loss)\n",
    "                    print(\"Predicted:\", yhat, \"Wanted: \", targets)\n",
    "                    # credit assignment\n",
    "                    loss.backward()\n",
    "                    \n",
    "                    for name, param in self.model.named_parameters():\n",
    "                        print(name, param.grad)\n",
    "                    \n",
    "                    \n",
    "                    # update model weights\n",
    "                    optimizer.step()\n",
    "\n",
    "                    tepoch.set_postfix(loss=loss.item(), accuracy=100. * accuracy)\n",
    "        "
   ]
  },
  {
   "cell_type": "markdown",
   "id": "2c0424dc-97ec-4c65-a791-6284ddc68cf0",
   "metadata": {},
   "source": [
    "## Create dataset\n",
    "\n",
    "It will contain only one sample: 2x + y = 1; 3x - y = 4\n"
   ]
  },
  {
   "cell_type": "code",
   "execution_count": 3,
   "id": "17537791-9f73-42f8-a5a8-e670a4e7f5f4",
   "metadata": {},
   "outputs": [],
   "source": [
    "class DSS(Dataset):\n",
    "    def __init__(self):\n",
    "        self.X = np.array([[2,1,1,3,-1,4]], dtype=np.float32)\n",
    "        self.y = np.array([[1,-1]], dtype=np.float32)\n",
    "        self.len = 1\n",
    "    \n",
    "    def __len__(self):\n",
    "        return self.len\n",
    "    \n",
    "    def __getitem__(self, idx):\n",
    "        return self.X[idx], self.y[idx]"
   ]
  },
  {
   "cell_type": "code",
   "execution_count": 4,
   "id": "67263da5-8ee8-467c-943d-e88580cf0c6e",
   "metadata": {},
   "outputs": [],
   "source": [
    "dset = DSS()\n",
    "loader = DataLoader(dset, batch_size=1, shuffle=False)"
   ]
  },
  {
   "cell_type": "markdown",
   "id": "0430f7fb-cb19-4370-b963-ed73883de1d4",
   "metadata": {},
   "source": [
    "## Model training step by step"
   ]
  },
  {
   "cell_type": "code",
   "execution_count": 5,
   "id": "d186e016-f9c1-4f61-a3b7-89a3269186e6",
   "metadata": {},
   "outputs": [],
   "source": [
    "model = Network()"
   ]
  },
  {
   "cell_type": "code",
   "execution_count": 6,
   "id": "d6f07231-c657-4fce-984a-860a733b08f7",
   "metadata": {},
   "outputs": [
    {
     "name": "stdout",
     "output_type": "stream",
     "text": [
      "Network(\n",
      "  (model): Sequential(\n",
      "    (0): Linear(in_features=6, out_features=3, bias=True)\n",
      "    (1): Linear(in_features=3, out_features=2, bias=True)\n",
      "  )\n",
      "  (loss): MSELoss()\n",
      ")\n"
     ]
    }
   ],
   "source": [
    "print(model)"
   ]
  },
  {
   "cell_type": "markdown",
   "id": "110f458a-e8d7-4e40-944d-44604b23b10c",
   "metadata": {},
   "source": [
    "### Modify weights, our initialization for the lesson"
   ]
  },
  {
   "cell_type": "code",
   "execution_count": 7,
   "id": "55dfab15-1196-4d96-96c1-03dc6b8b5d10",
   "metadata": {},
   "outputs": [],
   "source": [
    "with torch.no_grad():\n",
    "    model.model[0].weight = nn.Parameter(torch.tensor([[ 0.5,  0.4, -0.2,  0.2, -0.2,  0.3],\n",
    "        [-0.1,  0.0,  0.2,  0.1,  0.4,  0.0],\n",
    "        [0.0,  0.0, -0.2,  0.3, -0.1, -0.3]]))\n",
    "    model.model[0].bias = nn.Parameter(torch.tensor([-0.1, -0.3,  0.1]))\n",
    "    model.model[1].weight = nn.Parameter(torch.tensor([[ 1.,  1., 1.],\n",
    "        [1.,  1., 1.]]))\n",
    "    model.model[1].bias = nn.Parameter(torch.tensor([1., 1.]))"
   ]
  },
  {
   "cell_type": "markdown",
   "id": "79be3643-9627-4e99-8c22-1f3755467d6c",
   "metadata": {},
   "source": [
    "### Freeze first layer of weights and bias"
   ]
  },
  {
   "cell_type": "code",
   "execution_count": 8,
   "id": "ff124cf3-29f0-4e7b-8936-d5194710bdc2",
   "metadata": {},
   "outputs": [],
   "source": [
    "for i, param in enumerate(model.model.parameters()):\n",
    "    if i == 0 or i == 1:\n",
    "        param.requires_grad = False"
   ]
  },
  {
   "cell_type": "markdown",
   "id": "5d29a4d5-d7b0-4e15-a377-8e73945d9273",
   "metadata": {},
   "source": [
    "### Predicted values with initialized weights"
   ]
  },
  {
   "cell_type": "code",
   "execution_count": 9,
   "id": "d1d4a36e-60cc-4526-b223-430bca35d781",
   "metadata": {},
   "outputs": [
    {
     "data": {
      "text/plain": [
       "tensor([[3.4000, 3.4000]], grad_fn=<AddmmBackward0>)"
      ]
     },
     "execution_count": 9,
     "metadata": {},
     "output_type": "execute_result"
    }
   ],
   "source": [
    "model(torch.from_numpy(np.array([[2,1,1,3,-1,4]], dtype=np.float32)))"
   ]
  },
  {
   "cell_type": "markdown",
   "id": "d3b35463-bbda-4040-bb48-161180f596e3",
   "metadata": {},
   "source": [
    "### Train with frozen layer, one step, we can try it multiple times"
   ]
  },
  {
   "cell_type": "code",
   "execution_count": 10,
   "id": "c5440fdc-2eeb-4af6-9dc0-14def2cadd2b",
   "metadata": {
    "tags": []
   },
   "outputs": [
    {
     "name": "stderr",
     "output_type": "stream",
     "text": [
      "Epoch 1: 100%|██████████| 1/1 [00:00<00:00, 32.30batch/s, accuracy=0, loss=12.6]"
     ]
    },
    {
     "name": "stdout",
     "output_type": "stream",
     "text": [
      "Loss:  tensor(12.5600, grad_fn=<MseLossBackward0>)\n",
      "Predicted: tensor([[3.4000, 3.4000]], grad_fn=<AddmmBackward0>) Wanted:  tensor([[ 1., -1.]])\n",
      "0.weight None\n",
      "0.bias None\n",
      "1.weight tensor([[ 7.4400, -0.9600, -0.7200],\n",
      "        [13.6400, -1.7600, -1.3200]])\n",
      "1.bias tensor([2.4000, 4.4000])\n"
     ]
    },
    {
     "name": "stderr",
     "output_type": "stream",
     "text": [
      "\n"
     ]
    }
   ],
   "source": [
    "model.train_model(loader, 1)"
   ]
  },
  {
   "cell_type": "markdown",
   "id": "485f55bd-89b4-40e1-a125-9025ee4f200f",
   "metadata": {},
   "source": [
    "### New weights after training"
   ]
  },
  {
   "cell_type": "code",
   "execution_count": 11,
   "id": "41126767-e490-4ad7-9cbf-c36deb6047fe",
   "metadata": {},
   "outputs": [
    {
     "name": "stdout",
     "output_type": "stream",
     "text": [
      "model.1.weight tensor([[ 0.2560,  1.0960,  1.0720],\n",
      "        [-0.3640,  1.1760,  1.1320]])\n",
      "model.1.bias tensor([0.7600, 0.5600])\n"
     ]
    }
   ],
   "source": [
    "for name, param in model.named_parameters():\n",
    "    if param.requires_grad:\n",
    "        print(name, param.data)"
   ]
  },
  {
   "cell_type": "markdown",
   "id": "126f6a45-4d84-405b-b3c2-27980b27e0b1",
   "metadata": {},
   "source": [
    "### New prediction after training"
   ]
  },
  {
   "cell_type": "code",
   "execution_count": 12,
   "id": "de1f1730-f357-417b-bf8f-80878c932c5d",
   "metadata": {},
   "outputs": [
    {
     "data": {
      "text/plain": [
       "tensor([[ 0.7936, -1.3784]], grad_fn=<AddmmBackward0>)"
      ]
     },
     "execution_count": 12,
     "metadata": {},
     "output_type": "execute_result"
    }
   ],
   "source": [
    "model(torch.from_numpy(np.array([[2,1,1,3,-1,4]], dtype=np.float32)))"
   ]
  },
  {
   "cell_type": "markdown",
   "id": "140f3792-0f25-487f-81d5-245b8bc9fcd8",
   "metadata": {},
   "source": [
    "-----------------------------"
   ]
  },
  {
   "cell_type": "markdown",
   "id": "808c19c0-8ae9-4605-8978-36ad72a553a4",
   "metadata": {},
   "source": [
    "## Try training and evaluation on completely new input"
   ]
  },
  {
   "cell_type": "code",
   "execution_count": 15,
   "id": "d99cb0c0-8611-4280-b232-274bec6a74ce",
   "metadata": {},
   "outputs": [
    {
     "data": {
      "text/plain": [
       "tensor([[ 1.3168, -0.4192]], grad_fn=<AddmmBackward0>)"
      ]
     },
     "execution_count": 15,
     "metadata": {},
     "output_type": "execute_result"
    }
   ],
   "source": [
    "model(torch.from_numpy(np.array([[2,2,4,3,1,4]], dtype=np.float32)))"
   ]
  },
  {
   "cell_type": "code",
   "execution_count": 16,
   "id": "47436de2-58ce-4951-9f79-374bfcce82d4",
   "metadata": {},
   "outputs": [],
   "source": [
    "class DSS2(Dataset):\n",
    "    def __init__(self):\n",
    "        self.X = np.array([[2,2,4,3,1,4]], dtype=np.float32)\n",
    "        self.y = np.array([[1,1]], dtype=np.float32)\n",
    "        self.len = 1\n",
    "    \n",
    "    def __len__(self):\n",
    "        return self.len\n",
    "    \n",
    "    def __getitem__(self, idx):\n",
    "        return self.X[idx], self.y[idx]"
   ]
  },
  {
   "cell_type": "code",
   "execution_count": 17,
   "id": "df844b4d-8202-42ff-bc1f-7e3785d9fc89",
   "metadata": {},
   "outputs": [],
   "source": [
    "dset2 = DSS2()\n",
    "loader2 = DataLoader(dset2, batch_size=1, shuffle=False)"
   ]
  },
  {
   "cell_type": "code",
   "execution_count": 18,
   "id": "26c105d7-4664-43d1-884e-3560c197c71b",
   "metadata": {
    "tags": []
   },
   "outputs": [
    {
     "name": "stderr",
     "output_type": "stream",
     "text": [
      "Epoch 1: 100%|██████████| 1/1 [00:00<00:00, 162.57batch/s, accuracy=0, loss=1.06]\n"
     ]
    },
    {
     "name": "stdout",
     "output_type": "stream",
     "text": [
      "Loss:  tensor(1.0572, grad_fn=<MseLossBackward0>)\n",
      "Predicted: tensor([[ 1.3168, -0.4192]], grad_fn=<AddmmBackward0>) Wanted:  tensor([[1., 1.]])\n",
      "0.weight None\n",
      "0.bias None\n",
      "1.weight tensor([[ 0.7920,  0.3168, -0.3485],\n",
      "        [-3.5480, -1.4192,  1.5611]])\n",
      "1.bias tensor([ 0.3168, -1.4192])\n"
     ]
    },
    {
     "name": "stderr",
     "output_type": "stream",
     "text": [
      "Epoch 2: 100%|██████████| 1/1 [00:00<00:00, 187.32batch/s, accuracy=0, loss=0.00308]\n"
     ]
    },
    {
     "name": "stdout",
     "output_type": "stream",
     "text": [
      "Loss:  tensor(0.0031, grad_fn=<MseLossBackward0>)\n",
      "Predicted: tensor([[1.0171, 0.9234]], grad_fn=<AddmmBackward0>) Wanted:  tensor([[1., 1.]])\n",
      "0.weight None\n",
      "0.bias None\n",
      "1.weight tensor([[ 0.0428,  0.0171, -0.0188],\n",
      "        [-0.1916, -0.0766,  0.0843]])\n",
      "1.bias tensor([ 0.0171, -0.0766])\n"
     ]
    },
    {
     "name": "stderr",
     "output_type": "stream",
     "text": [
      "Epoch 3: 100%|██████████| 1/1 [00:00<00:00, 191.36batch/s, accuracy=0, loss=8.99e-6]\n"
     ]
    },
    {
     "name": "stdout",
     "output_type": "stream",
     "text": [
      "Loss:  tensor(8.9893e-06, grad_fn=<MseLossBackward0>)\n",
      "Predicted: tensor([[1.0009, 0.9959]], grad_fn=<AddmmBackward0>) Wanted:  tensor([[1., 1.]])\n",
      "0.weight None\n",
      "0.bias None\n",
      "1.weight tensor([[ 0.0023,  0.0009, -0.0010],\n",
      "        [-0.0103, -0.0041,  0.0046]])\n",
      "1.bias tensor([ 0.0009, -0.0041])\n"
     ]
    },
    {
     "name": "stderr",
     "output_type": "stream",
     "text": [
      "Epoch 4: 100%|██████████| 1/1 [00:00<00:00, 190.77batch/s, accuracy=0, loss=2.62e-8]\n"
     ]
    },
    {
     "name": "stdout",
     "output_type": "stream",
     "text": [
      "Loss:  tensor(2.6222e-08, grad_fn=<MseLossBackward0>)\n",
      "Predicted: tensor([[1.0000, 0.9998]], grad_fn=<AddmmBackward0>) Wanted:  tensor([[1., 1.]])\n",
      "0.weight None\n",
      "0.bias None\n",
      "1.weight tensor([[ 1.2457e-04,  4.9829e-05, -5.4812e-05],\n",
      "        [-5.5879e-04, -2.2352e-04,  2.4587e-04]])\n",
      "1.bias tensor([ 4.9829e-05, -2.2352e-04])\n"
     ]
    },
    {
     "name": "stderr",
     "output_type": "stream",
     "text": [
      "Epoch 5: 100%|██████████| 1/1 [00:00<00:00, 189.38batch/s, accuracy=0, loss=7.52e-11]\n"
     ]
    },
    {
     "name": "stdout",
     "output_type": "stream",
     "text": [
      "Loss:  tensor(7.5206e-11, grad_fn=<MseLossBackward0>)\n",
      "Predicted: tensor([[1.0000, 1.0000]], grad_fn=<AddmmBackward0>) Wanted:  tensor([[1., 1.]])\n",
      "0.weight None\n",
      "0.bias None\n",
      "1.weight tensor([[ 6.5565e-06,  2.6226e-06, -2.8849e-06],\n",
      "        [-2.9951e-05, -1.1981e-05,  1.3179e-05]])\n",
      "1.bias tensor([ 2.6226e-06, -1.1981e-05])\n"
     ]
    },
    {
     "name": "stderr",
     "output_type": "stream",
     "text": [
      "Epoch 6: 100%|██████████| 1/1 [00:00<00:00, 191.40batch/s, accuracy=0, loss=2.43e-13]\n"
     ]
    },
    {
     "name": "stdout",
     "output_type": "stream",
     "text": [
      "Loss:  tensor(2.4336e-13, grad_fn=<MseLossBackward0>)\n",
      "Predicted: tensor([[1.0000, 1.0000]], grad_fn=<AddmmBackward0>) Wanted:  tensor([[1., 1.]])\n",
      "0.weight None\n",
      "0.bias None\n",
      "1.weight tensor([[ 5.9605e-07,  2.3842e-07, -2.6226e-07],\n",
      "        [-1.6391e-06, -6.5565e-07,  7.2122e-07]])\n",
      "1.bias tensor([ 2.3842e-07, -6.5565e-07])\n"
     ]
    },
    {
     "name": "stderr",
     "output_type": "stream",
     "text": [
      "Epoch 7: 100%|██████████| 1/1 [00:00<00:00, 172.79batch/s, accuracy=0, loss=2.84e-14]\n"
     ]
    },
    {
     "name": "stdout",
     "output_type": "stream",
     "text": [
      "Loss:  tensor(2.8422e-14, grad_fn=<MseLossBackward0>)\n",
      "Predicted: tensor([[1.0000, 1.0000]], grad_fn=<AddmmBackward0>) Wanted:  tensor([[1., 1.]])\n",
      "0.weight None\n",
      "0.bias None\n",
      "1.weight tensor([[ 5.9605e-07,  2.3842e-07, -2.6226e-07],\n",
      "        [ 0.0000e+00,  0.0000e+00,  0.0000e+00]])\n",
      "1.bias tensor([2.3842e-07, 0.0000e+00])\n"
     ]
    },
    {
     "name": "stderr",
     "output_type": "stream",
     "text": [
      "Epoch 8: 100%|██████████| 1/1 [00:00<00:00, 206.67batch/s, accuracy=0, loss=0]\n"
     ]
    },
    {
     "name": "stdout",
     "output_type": "stream",
     "text": [
      "Loss:  tensor(0., grad_fn=<MseLossBackward0>)\n",
      "Predicted: tensor([[1., 1.]], grad_fn=<AddmmBackward0>) Wanted:  tensor([[1., 1.]])\n",
      "0.weight None\n",
      "0.bias None\n",
      "1.weight tensor([[0., 0., 0.],\n",
      "        [0., 0., 0.]])\n",
      "1.bias tensor([0., 0.])\n"
     ]
    },
    {
     "name": "stderr",
     "output_type": "stream",
     "text": [
      "Epoch 9: 100%|██████████| 1/1 [00:00<00:00, 192.06batch/s, accuracy=0, loss=0]\n"
     ]
    },
    {
     "name": "stdout",
     "output_type": "stream",
     "text": [
      "Loss:  tensor(0., grad_fn=<MseLossBackward0>)\n",
      "Predicted: tensor([[1., 1.]], grad_fn=<AddmmBackward0>) Wanted:  tensor([[1., 1.]])\n",
      "0.weight None\n",
      "0.bias None\n",
      "1.weight tensor([[0., 0., 0.],\n",
      "        [0., 0., 0.]])\n",
      "1.bias tensor([0., 0.])\n"
     ]
    },
    {
     "name": "stderr",
     "output_type": "stream",
     "text": [
      "Epoch 10: 100%|██████████| 1/1 [00:00<00:00, 204.65batch/s, accuracy=0, loss=0]"
     ]
    },
    {
     "name": "stdout",
     "output_type": "stream",
     "text": [
      "Loss:  tensor(0., grad_fn=<MseLossBackward0>)\n",
      "Predicted: tensor([[1., 1.]], grad_fn=<AddmmBackward0>) Wanted:  tensor([[1., 1.]])\n",
      "0.weight None\n",
      "0.bias None\n",
      "1.weight tensor([[0., 0., 0.],\n",
      "        [0., 0., 0.]])\n",
      "1.bias tensor([0., 0.])\n"
     ]
    },
    {
     "name": "stderr",
     "output_type": "stream",
     "text": [
      "\n"
     ]
    }
   ],
   "source": [
    "model.train_model(loader2, 10)"
   ]
  },
  {
   "cell_type": "code",
   "execution_count": 19,
   "id": "9f028fb2-eda9-469c-9b78-0a470c35579d",
   "metadata": {},
   "outputs": [
    {
     "data": {
      "text/plain": [
       "tensor([[1., 1.]], grad_fn=<AddmmBackward0>)"
      ]
     },
     "execution_count": 19,
     "metadata": {},
     "output_type": "execute_result"
    }
   ],
   "source": [
    "model(torch.from_numpy(np.array([[2,2,4,3,1,4]], dtype=np.float32)))"
   ]
  },
  {
   "cell_type": "code",
   "execution_count": null,
   "id": "7a8f1486-ef7a-4025-9269-2974a75f5d16",
   "metadata": {},
   "outputs": [],
   "source": []
  }
 ],
 "metadata": {
  "kernelspec": {
   "display_name": "Python [conda env:transformers]",
   "language": "python",
   "name": "conda-env-transformers-py"
  },
  "language_info": {
   "codemirror_mode": {
    "name": "ipython",
    "version": 3
   },
   "file_extension": ".py",
   "mimetype": "text/x-python",
   "name": "python",
   "nbconvert_exporter": "python",
   "pygments_lexer": "ipython3",
   "version": "3.8.15"
  }
 },
 "nbformat": 4,
 "nbformat_minor": 5
}
